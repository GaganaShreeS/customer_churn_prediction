# 1. IMPORTING NECESSARY LIBRARIES
# These libraries will help us load the dataset, process the data, build the model, and evaluate its performance.
import pandas as pd
import numpy as np
import matplotlib.pyplot as plt
import seaborn as sns
from sklearn.model_selection import train_test_split
from sklearn.preprocessing import LabelEncoder, StandardScaler
from sklearn.metrics import classification_report, confusion_matrix, accuracy_score
from xgboost import XGBClassifier
from imblearn.over_sampling import SMOTE

# 2. LOADING THE DATASET
# Load the CSV dataset into a pandas DataFrame
df = pd.read_csv("/content/churn.csv")
print("Initial shape of dataset:", df.shape)

# 3. PREPROCESSING THE DATA
# Drop unnecessary columns
df.drop(['RowNumber', 'CustomerId', 'Surname'], axis=1, inplace=True)

# Convert categorical data into numeric form
le = LabelEncoder()
df['Gender'] = le.fit_transform(df['Gender'])

# Apply one-hot encoding to the 'Geography' column
df = pd.get_dummies(df, columns=['Geography'], drop_first=True)

# 4. FEATURE ENGINEERING
# Create new features that might improve model predictions
df['BalancePerProduct'] = df['Balance'] / (df['NumOfProducts'] + 1)
df['AgeTenure'] = df['Age'] * df['Tenure']

# 5. SPLITTING DATA INTO FEATURES (X) AND TARGET (y)
X = df.drop('Exited', axis=1)  # Features
y = df['Exited']  # Target variable

# 6. SCALING THE FEATURES
scaler = StandardScaler()
X_scaled = scaler.fit_transform(X)

# 7. HANDLING CLASS IMBALANCE WITH SMOTE
smote = SMOTE(random_state=42)
X_resampled, y_resampled = smote.fit_resample(X_scaled, y)

# 8. TRAINING THE MODEL
xgb_model = XGBClassifier(n_estimators=200, learning_rate=0.1, max_depth=6, subsample=0.8, colsample_bytree=0.8, random_state=42)
xgb_model.fit(X_resampled, y_resampled)

# 9. EVALUATION
y_pred = xgb_model.predict(X_test)
print(f"Accuracy: {accuracy_score(y_test, y_pred) * 100:.2f}%")
print(confusion_matrix(y_test, y_pred))
print(classification_report(y_test, y_pred))

# 10. FEATURE IMPORTANCE VISUALIZATION
sns.barplot(x=xgb_model.feature_importances_, y=X.columns)
plt.title("Feature Importance (XGBoost Model)")
plt.tight_layout()
plt.show()
